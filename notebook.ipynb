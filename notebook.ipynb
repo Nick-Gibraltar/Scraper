{
 "cells": [
  {
   "cell_type": "code",
   "execution_count": 1,
   "metadata": {},
   "outputs": [],
   "source": [
    "from selenium.webdriver.chrome.service import Service\n",
    "from selenium import webdriver\n",
    "from selenium.webdriver.common.by import By\n",
    "from selenium.webdriver.common.keys import Keys\n",
    "import time"
   ]
  },
  {
   "cell_type": "code",
   "execution_count": 84,
   "metadata": {},
   "outputs": [],
   "source": [
    "url = \"https://www.screwfix.com/c/tools/drills/cat830704\"\n",
    "driver = webdriver.Chrome()\n",
    "driver.get(url)\n",
    "           "
   ]
  },
  {
   "cell_type": "code",
   "execution_count": 85,
   "metadata": {},
   "outputs": [
    {
     "name": "stdout",
     "output_type": "stream",
     "text": [
      "Drills\n",
      "Saws\n",
      "Kits & Twinpacks\n",
      "Impact Drivers & Wrenches\n",
      "Power Tool Batteries & Chargers\n",
      "Bare Units\n",
      "Angle Grinders\n",
      "Multi Tools\n",
      "Planers\n",
      "Electric Screwdrivers\n",
      "Sanders\n",
      "Polishers\n",
      "Nail Guns\n",
      "Routers\n",
      "Air Compressors\n",
      "Radios\n",
      "Concrete Breakers\n",
      "Dust Extractors\n",
      "Welders\n",
      "Workshop Machinery\n",
      "Generators\n",
      "Wallpaper Strippers\n",
      "Glue & Heat Guns\n",
      "Disc Cutters\n",
      "Air Tools\n",
      "Concrete Pokers\n",
      "Nibblers\n",
      "Die Grinders\n"
     ]
    }
   ],
   "source": [
    "category_text = driver.find_elements(by=By.XPATH, value='//span[@class=\"ln__facet\"]')\n",
    "for i in category_text:\n",
    "    print(i.text)"
   ]
  },
  {
   "cell_type": "code",
   "execution_count": 70,
   "metadata": {},
   "outputs": [
    {
     "name": "stdout",
     "output_type": "stream",
     "text": [
      "Bright Nails\n",
      "Galvanised Nails\n",
      "Masonry Nails\n",
      "Collated Nails\n",
      "Panel Pins\n",
      "Roofing Nails\n",
      "uPVC Nails\n",
      "Staples & Tacks\n",
      "Nail In Anchors\n",
      "Nail Guns\n"
     ]
    }
   ],
   "source": [
    "category_text_alternative = driver.find_elements(by=By.XPATH, value='//div[@class=\"lg-6 md-12 sm-24 cols\"]')\n",
    "for i in category_text:\n",
    "    print(i.text)"
   ]
  },
  {
   "cell_type": "code",
   "execution_count": 71,
   "metadata": {},
   "outputs": [],
   "source": [
    "another_test=driver.find_elements(by=By.XPATH, value='//div[@class=\"mt__item\"]')"
   ]
  },
  {
   "cell_type": "code",
   "execution_count": 76,
   "metadata": {},
   "outputs": [
    {
     "name": "stdout",
     "output_type": "stream",
     "text": [
      "Bright Nails\n"
     ]
    }
   ],
   "source": [
    "print(another_test[0].get_attribute('title'))"
   ]
  },
  {
   "cell_type": "code",
   "execution_count": 77,
   "metadata": {},
   "outputs": [
    {
     "name": "stdout",
     "output_type": "stream",
     "text": [
      "BRIGHT NAILS\n",
      "GALVANISED NAILS\n",
      "MASONRY NAILS\n",
      "COLLATED NAILS\n",
      "PANEL PINS\n",
      "ROOFING NAILS\n",
      "UPVC NAILS\n",
      "STAPLES & TACKS\n",
      "NAIL IN ANCHORS\n",
      "NAIL GUNS\n"
     ]
    }
   ],
   "source": [
    "another_way=driver.find_elements(by=By.XPATH, value='//a[@forsubcatid=\"mt__item-title\"]')\n",
    "for i in another_way:\n",
    "    print(i.text)"
   ]
  },
  {
   "cell_type": "code",
   "execution_count": 83,
   "metadata": {},
   "outputs": [
    {
     "name": "stdout",
     "output_type": "stream",
     "text": [
      "[]\n"
     ]
    }
   ],
   "source": [
    "subcatids=driver.find_elements(By.CLASS_NAME, 'class')\n",
    "print(subcatids)"
   ]
  },
  {
   "cell_type": "code",
   "execution_count": 93,
   "metadata": {},
   "outputs": [
    {
     "name": "stdout",
     "output_type": "stream",
     "text": [
      "https://www.screwfix.com/c/tools/drills/cat830704\n",
      "https://www.screwfix.com/c/tools/saws/cat830716\n",
      "https://www.screwfix.com/c/tools/kits-twinpacks/cat830712\n",
      "https://www.screwfix.com/c/tools/impact-drivers-wrenches/cat830838\n",
      "https://www.screwfix.com/c/tools/power-tool-batteries-chargers/cat830696\n",
      "https://www.screwfix.com/c/tools/bare-units/cat7230005\n",
      "https://www.screwfix.com/c/tools/angle-grinders/cat830694\n",
      "https://www.screwfix.com/c/tools/multi-tools/cat830708\n",
      "https://www.screwfix.com/c/tools/planers/cat830902\n",
      "https://www.screwfix.com/c/tools/electric-screwdrivers/cat830720\n",
      "https://www.screwfix.com/c/tools/sanders/cat830906\n",
      "https://www.screwfix.com/c/tools/polishers/cat12980002\n",
      "https://www.screwfix.com/c/tools/nail-guns/cat830710\n",
      "https://www.screwfix.com/c/tools/routers/cat830904\n",
      "https://www.screwfix.com/c/tools/air-compressors/cat830698\n",
      "https://www.screwfix.com/c/tools/radios/cat830714\n",
      "https://www.screwfix.com/c/tools/concrete-breakers/cat830792\n",
      "https://www.screwfix.com/c/tools/dust-extractors/cat830940\n",
      "https://www.screwfix.com/c/tools/welders/cat830732\n",
      "https://www.screwfix.com/c/tools/workshop-machinery/cat830908\n",
      "https://www.screwfix.com/c/tools/generators/cat830706\n",
      "https://www.screwfix.com/c/decorating/wallpaper-strippers/cat830806\n",
      "https://www.screwfix.com/c/tools/glue-heat-guns/cat830804\n",
      "https://www.screwfix.com/c/tools/disc-cutters/cat830798\n",
      "https://www.screwfix.com/c/tools/air-tools/cat830782\n",
      "https://www.screwfix.com/c/tools/concrete-pokers/cat8730001\n",
      "https://www.screwfix.com/c/tools/nibblers/cat14970001\n",
      "https://www.screwfix.com/c/tools/die-grinders/cat14970002\n"
     ]
    }
   ],
   "source": [
    "nlncats = driver.find_elements(by=By.XPATH, value='//ul[@class=\"n ln__cats\"]')\n",
    "something=i.find_elements(By.TAG_NAME, value='a')\n",
    "for i in something:\n",
    "    print(i.get_attribute('href'))"
   ]
  },
  {
   "cell_type": "code",
   "execution_count": 61,
   "metadata": {},
   "outputs": [
    {
     "name": "stdout",
     "output_type": "stream",
     "text": [
      "None\n"
     ]
    }
   ],
   "source": [
    "print(nlncats[0].get_attribute('href'))"
   ]
  },
  {
   "cell_type": "code",
   "execution_count": 68,
   "metadata": {},
   "outputs": [
    {
     "name": "stdout",
     "output_type": "stream",
     "text": [
      "\n",
      "\n",
      "Your Account\n",
      "Sign in / Register\n",
      "Store locator\n",
      "Select a store\n",
      "Checkout\n",
      "\n",
      "\n",
      "\n",
      "Home\n",
      "Screws, Nails & Fixings\n",
      "Bright Nails\n",
      "Galvanised Nails\n",
      "Masonry Nails\n",
      "Collated Nails\n",
      "Panel Pins\n",
      "Roofing Nails\n",
      "uPVC Nails\n",
      "Staples & Tacks\n",
      "Nail In Anchors\n",
      "Nail Guns\n",
      "Contact Us\n",
      "FAQs\n",
      "Returns\n",
      "Click & Collect\n",
      "Delivery\n",
      "Find a Store\n",
      "View all Stores\n",
      "Screwfix Gift Card\n",
      "Secure Payment Options\n",
      "Trade Credit Account\n",
      "Approved Supplier Deliveries\n",
      "Rate & Review\n",
      "Screwfix Sprint\n",
      "Refurbished Products\n",
      "Questions & Answers\n",
      "Screwfix App\n",
      "Screwfix Card\n",
      "Screwfix Live\n",
      "A-Z Brands\n",
      "About us\n",
      "Careers at Screwfix\n",
      "Media Centre\n",
      "Modern Slavery Statement\n",
      "Responsible Business\n",
      "Health & Safety\n",
      "Product Safety Notices & Recalls\n",
      "Low Price\n",
      "Risk Assessment\n",
      "WEEE & Battery Recycling\n",
      "Electricfix Plumbfix Screwfix Key Accounts Screwfix Foundation Screwfix Wardrobes Screwfix Top Tradesperson Screwfix Trade Apprentice Energy Labels 18th Edition Wiring Regulations Smart Homes\n",
      "Change region:\n",
      "Visit Screwfix.ie Shop from the rest of the EU Visit Screwfix.fr\n",
      "\n",
      "PayPal Visa Visa Electron Maestro Master Card Trade Card\n",
      "Privacy Policy Cookie Policy Cookie Preferences Terms & Conditions Website Terms & Conditions\n"
     ]
    }
   ],
   "source": [
    "test = driver.find_elements(by=By.XPATH, value='//ul')\n",
    "for i in test:\n",
    "    print(i.text)"
   ]
  },
  {
   "cell_type": "code",
   "execution_count": null,
   "metadata": {},
   "outputs": [],
   "source": [
    "head_categories = driver.find_elements(by=By.XPATH, value='//div[@class=\"lg-6 md-12 sm-24 cols\"]')"
   ]
  },
  {
   "cell_type": "code",
   "execution_count": 52,
   "metadata": {},
   "outputs": [
    {
     "name": "stdout",
     "output_type": "stream",
     "text": [
      "None\n",
      "None\n",
      "None\n",
      "None\n",
      "None\n",
      "None\n",
      "None\n",
      "None\n",
      "None\n",
      "None\n"
     ]
    }
   ],
   "source": [
    "for i in head_categories:\n",
    "    print(i.get_attribute('href'))"
   ]
  },
  {
   "cell_type": "code",
   "execution_count": 51,
   "metadata": {},
   "outputs": [
    {
     "ename": "AttributeError",
     "evalue": "'WebElement' object has no attribute 'tagName'",
     "output_type": "error",
     "traceback": [
      "\u001b[0;31m---------------------------------------------------------------------------\u001b[0m",
      "\u001b[0;31mAttributeError\u001b[0m                            Traceback (most recent call last)",
      "Cell \u001b[0;32mIn [51], line 1\u001b[0m\n\u001b[0;32m----> 1\u001b[0m test \u001b[39m=\u001b[39m driver\u001b[39m.\u001b[39;49mfind_element(by\u001b[39m=\u001b[39;49mBy\u001b[39m.\u001b[39;49mXPATH, value\u001b[39m=\u001b[39;49m\u001b[39m'\u001b[39;49m\u001b[39m//ul[@class=\u001b[39;49m\u001b[39m\"\u001b[39;49m\u001b[39mn ln__cats\u001b[39;49m\u001b[39m\"\u001b[39;49m\u001b[39m]\u001b[39;49m\u001b[39m'\u001b[39;49m)\u001b[39m.\u001b[39;49mtagName\n\u001b[1;32m      2\u001b[0m \u001b[39mprint\u001b[39m(test)\n",
      "\u001b[0;31mAttributeError\u001b[0m: 'WebElement' object has no attribute 'tagName'"
     ]
    }
   ],
   "source": [
    "test = driver.find_element(by=By.XPATH, value='//ul[@class=\"n ln__cats\"]') \n",
    "print(test)"
   ]
  },
  {
   "cell_type": "code",
   "execution_count": null,
   "metadata": {},
   "outputs": [],
   "source": [
    "search_bar = driver.find_element(By.XPATH, '//*[text()=\"What are you looking for?\"]')\n"
   ]
  }
 ],
 "metadata": {
  "kernelspec": {
   "display_name": "Python 3.9.15 ('data')",
   "language": "python",
   "name": "python3"
  },
  "language_info": {
   "codemirror_mode": {
    "name": "ipython",
    "version": 3
   },
   "file_extension": ".py",
   "mimetype": "text/x-python",
   "name": "python",
   "nbconvert_exporter": "python",
   "pygments_lexer": "ipython3",
   "version": "3.9.15"
  },
  "orig_nbformat": 4,
  "vscode": {
   "interpreter": {
    "hash": "8f0f8a650449be3f445f1235b1a8e3f5fa0aab725a6406abd35559d86c78f6e8"
   }
  }
 },
 "nbformat": 4,
 "nbformat_minor": 2
}
